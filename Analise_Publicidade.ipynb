{
  "nbformat": 4,
  "nbformat_minor": 0,
  "metadata": {
    "colab": {
      "name": "Analise_Publicidade.ipynb",
      "provenance": [],
      "collapsed_sections": [],
      "toc_visible": true,
      "authorship_tag": "ABX9TyN9VeOR1CX1nMIzKZ1T03Vc",
      "include_colab_link": true
    },
    "kernelspec": {
      "name": "python3",
      "display_name": "Python 3"
    }
  },
  "cells": [
    {
      "cell_type": "markdown",
      "metadata": {
        "id": "view-in-github",
        "colab_type": "text"
      },
      "source": [
        "<a href=\"https://colab.research.google.com/github/RodrigoTenorio86/Analises_Preditivas/blob/master/Analise_Publicidade.ipynb\" target=\"_parent\"><img src=\"https://colab.research.google.com/assets/colab-badge.svg\" alt=\"Open In Colab\"/></a>"
      ]
    },
    {
      "cell_type": "code",
      "metadata": {
        "id": "WktIERINE7pX",
        "colab_type": "code",
        "colab": {}
      },
      "source": [
        "import numpy as np\n",
        "import pandas as pd\n",
        "# Analise Graficas\n",
        "\n",
        "import seaborn as sns\n",
        "import matplotlib.pyplot as plt\n",
        "\n"
      ],
      "execution_count": 0,
      "outputs": []
    },
    {
      "cell_type": "code",
      "metadata": {
        "id": "9nW5LnZoFgxe",
        "colab_type": "code",
        "outputId": "5cfecc55-fde3-4f81-8249-edc87e48e705",
        "colab": {
          "base_uri": "https://localhost:8080/",
          "height": 204
        }
      },
      "source": [
        "publicidade=pd.read_csv(\"/content/PublicidadeI.csv\")\n",
        "publicidade.head()"
      ],
      "execution_count": 3,
      "outputs": [
        {
          "output_type": "execute_result",
          "data": {
            "text/html": [
              "<div>\n",
              "<style scoped>\n",
              "    .dataframe tbody tr th:only-of-type {\n",
              "        vertical-align: middle;\n",
              "    }\n",
              "\n",
              "    .dataframe tbody tr th {\n",
              "        vertical-align: top;\n",
              "    }\n",
              "\n",
              "    .dataframe thead th {\n",
              "        text-align: right;\n",
              "    }\n",
              "</style>\n",
              "<table border=\"1\" class=\"dataframe\">\n",
              "  <thead>\n",
              "    <tr style=\"text-align: right;\">\n",
              "      <th></th>\n",
              "      <th>Periodo</th>\n",
              "      <th>Propaganda</th>\n",
              "      <th>Desconto</th>\n",
              "      <th>Vendas</th>\n",
              "    </tr>\n",
              "  </thead>\n",
              "  <tbody>\n",
              "    <tr>\n",
              "      <th>0</th>\n",
              "      <td>16-Feb</td>\n",
              "      <td>8.33</td>\n",
              "      <td>12.0</td>\n",
              "      <td>1528.5</td>\n",
              "    </tr>\n",
              "    <tr>\n",
              "      <th>1</th>\n",
              "      <td>16-Mar</td>\n",
              "      <td>83.33</td>\n",
              "      <td>5.5</td>\n",
              "      <td>1560.0</td>\n",
              "    </tr>\n",
              "    <tr>\n",
              "      <th>2</th>\n",
              "      <td>16-Apr</td>\n",
              "      <td>25.00</td>\n",
              "      <td>8.0</td>\n",
              "      <td>1419.0</td>\n",
              "    </tr>\n",
              "    <tr>\n",
              "      <th>3</th>\n",
              "      <td>16-May</td>\n",
              "      <td>41.67</td>\n",
              "      <td>4.0</td>\n",
              "      <td>1335.0</td>\n",
              "    </tr>\n",
              "    <tr>\n",
              "      <th>4</th>\n",
              "      <td>16-Jun</td>\n",
              "      <td>16.67</td>\n",
              "      <td>9.5</td>\n",
              "      <td>1462.5</td>\n",
              "    </tr>\n",
              "  </tbody>\n",
              "</table>\n",
              "</div>"
            ],
            "text/plain": [
              "  Periodo  Propaganda  Desconto  Vendas\n",
              "0  16-Feb        8.33      12.0  1528.5\n",
              "1  16-Mar       83.33       5.5  1560.0\n",
              "2  16-Apr       25.00       8.0  1419.0\n",
              "3  16-May       41.67       4.0  1335.0\n",
              "4  16-Jun       16.67       9.5  1462.5"
            ]
          },
          "metadata": {
            "tags": []
          },
          "execution_count": 3
        }
      ]
    },
    {
      "cell_type": "code",
      "metadata": {
        "id": "mGaLV0uTGH2X",
        "colab_type": "code",
        "outputId": "7e037e2c-7bbc-4d71-c689-606fc30c59d9",
        "colab": {
          "base_uri": "https://localhost:8080/",
          "height": 297
        }
      },
      "source": [
        "publicidade.describe()"
      ],
      "execution_count": 4,
      "outputs": [
        {
          "output_type": "execute_result",
          "data": {
            "text/html": [
              "<div>\n",
              "<style scoped>\n",
              "    .dataframe tbody tr th:only-of-type {\n",
              "        vertical-align: middle;\n",
              "    }\n",
              "\n",
              "    .dataframe tbody tr th {\n",
              "        vertical-align: top;\n",
              "    }\n",
              "\n",
              "    .dataframe thead th {\n",
              "        text-align: right;\n",
              "    }\n",
              "</style>\n",
              "<table border=\"1\" class=\"dataframe\">\n",
              "  <thead>\n",
              "    <tr style=\"text-align: right;\">\n",
              "      <th></th>\n",
              "      <th>Propaganda</th>\n",
              "      <th>Desconto</th>\n",
              "      <th>Vendas</th>\n",
              "    </tr>\n",
              "  </thead>\n",
              "  <tbody>\n",
              "    <tr>\n",
              "      <th>count</th>\n",
              "      <td>17.000000</td>\n",
              "      <td>17.000000</td>\n",
              "      <td>17.000000</td>\n",
              "    </tr>\n",
              "    <tr>\n",
              "      <th>mean</th>\n",
              "      <td>55.000000</td>\n",
              "      <td>6.764706</td>\n",
              "      <td>1481.323529</td>\n",
              "    </tr>\n",
              "    <tr>\n",
              "      <th>std</th>\n",
              "      <td>29.356762</td>\n",
              "      <td>3.657687</td>\n",
              "      <td>140.740113</td>\n",
              "    </tr>\n",
              "    <tr>\n",
              "      <th>min</th>\n",
              "      <td>8.330000</td>\n",
              "      <td>0.500000</td>\n",
              "      <td>1281.000000</td>\n",
              "    </tr>\n",
              "    <tr>\n",
              "      <th>25%</th>\n",
              "      <td>33.330000</td>\n",
              "      <td>4.500000</td>\n",
              "      <td>1375.500000</td>\n",
              "    </tr>\n",
              "    <tr>\n",
              "      <th>50%</th>\n",
              "      <td>55.000000</td>\n",
              "      <td>6.500000</td>\n",
              "      <td>1462.500000</td>\n",
              "    </tr>\n",
              "    <tr>\n",
              "      <th>75%</th>\n",
              "      <td>80.000000</td>\n",
              "      <td>9.500000</td>\n",
              "      <td>1560.000000</td>\n",
              "    </tr>\n",
              "    <tr>\n",
              "      <th>max</th>\n",
              "      <td>100.000000</td>\n",
              "      <td>12.000000</td>\n",
              "      <td>1747.500000</td>\n",
              "    </tr>\n",
              "  </tbody>\n",
              "</table>\n",
              "</div>"
            ],
            "text/plain": [
              "       Propaganda   Desconto       Vendas\n",
              "count   17.000000  17.000000    17.000000\n",
              "mean    55.000000   6.764706  1481.323529\n",
              "std     29.356762   3.657687   140.740113\n",
              "min      8.330000   0.500000  1281.000000\n",
              "25%     33.330000   4.500000  1375.500000\n",
              "50%     55.000000   6.500000  1462.500000\n",
              "75%     80.000000   9.500000  1560.000000\n",
              "max    100.000000  12.000000  1747.500000"
            ]
          },
          "metadata": {
            "tags": []
          },
          "execution_count": 4
        }
      ]
    },
    {
      "cell_type": "code",
      "metadata": {
        "id": "a4mziP9MGMhN",
        "colab_type": "code",
        "outputId": "59aa7ec0-df0b-4da2-aec2-0a2d0ad32e9d",
        "colab": {
          "base_uri": "https://localhost:8080/",
          "height": 102
        }
      },
      "source": [
        "publicidade.count()"
      ],
      "execution_count": 5,
      "outputs": [
        {
          "output_type": "execute_result",
          "data": {
            "text/plain": [
              "Periodo       17\n",
              "Propaganda    17\n",
              "Desconto      17\n",
              "Vendas        17\n",
              "dtype: int64"
            ]
          },
          "metadata": {
            "tags": []
          },
          "execution_count": 5
        }
      ]
    },
    {
      "cell_type": "code",
      "metadata": {
        "id": "sMWUBno0HAT7",
        "colab_type": "code",
        "outputId": "e0c2b959-9156-4ff4-ccc0-6c41b459e269",
        "colab": {
          "base_uri": "https://localhost:8080/",
          "height": 142
        }
      },
      "source": [
        "publicidade.corr()"
      ],
      "execution_count": 6,
      "outputs": [
        {
          "output_type": "execute_result",
          "data": {
            "text/html": [
              "<div>\n",
              "<style scoped>\n",
              "    .dataframe tbody tr th:only-of-type {\n",
              "        vertical-align: middle;\n",
              "    }\n",
              "\n",
              "    .dataframe tbody tr th {\n",
              "        vertical-align: top;\n",
              "    }\n",
              "\n",
              "    .dataframe thead th {\n",
              "        text-align: right;\n",
              "    }\n",
              "</style>\n",
              "<table border=\"1\" class=\"dataframe\">\n",
              "  <thead>\n",
              "    <tr style=\"text-align: right;\">\n",
              "      <th></th>\n",
              "      <th>Propaganda</th>\n",
              "      <th>Desconto</th>\n",
              "      <th>Vendas</th>\n",
              "    </tr>\n",
              "  </thead>\n",
              "  <tbody>\n",
              "    <tr>\n",
              "      <th>Propaganda</th>\n",
              "      <td>1.000000</td>\n",
              "      <td>-0.119808</td>\n",
              "      <td>0.518405</td>\n",
              "    </tr>\n",
              "    <tr>\n",
              "      <th>Desconto</th>\n",
              "      <td>-0.119808</td>\n",
              "      <td>1.000000</td>\n",
              "      <td>0.779095</td>\n",
              "    </tr>\n",
              "    <tr>\n",
              "      <th>Vendas</th>\n",
              "      <td>0.518405</td>\n",
              "      <td>0.779095</td>\n",
              "      <td>1.000000</td>\n",
              "    </tr>\n",
              "  </tbody>\n",
              "</table>\n",
              "</div>"
            ],
            "text/plain": [
              "            Propaganda  Desconto    Vendas\n",
              "Propaganda    1.000000 -0.119808  0.518405\n",
              "Desconto     -0.119808  1.000000  0.779095\n",
              "Vendas        0.518405  0.779095  1.000000"
            ]
          },
          "metadata": {
            "tags": []
          },
          "execution_count": 6
        }
      ]
    },
    {
      "cell_type": "code",
      "metadata": {
        "id": "5mrx1lbcHN19",
        "colab_type": "code",
        "outputId": "43d62085-35cc-4da4-ae2a-59987bd87293",
        "colab": {
          "base_uri": "https://localhost:8080/",
          "height": 286
        }
      },
      "source": [
        "sns.heatmap(publicidade.corr(),annot= True)"
      ],
      "execution_count": 7,
      "outputs": [
        {
          "output_type": "execute_result",
          "data": {
            "text/plain": [
              "<matplotlib.axes._subplots.AxesSubplot at 0x7f446e6b0320>"
            ]
          },
          "metadata": {
            "tags": []
          },
          "execution_count": 7
        },
        {
          "output_type": "display_data",
          "data": {
            "image/png": "[encoded data removed]",
            "text/plain": [
              "<Figure size 432x288 with 2 Axes>"
            ]
          },
          "metadata": {
            "tags": []
          }
        }
      ]
    },
    {
      "cell_type": "code",
      "metadata": {
        "id": "lra3-XexHwQQ",
        "colab_type": "code",
        "outputId": "74a542b3-d876-4ab7-ace9-0bdafd14c1cf",
        "colab": {
          "base_uri": "https://localhost:8080/",
          "height": 386
        }
      },
      "source": [
        "sns.lmplot(\"Vendas\", \"Desconto\", publicidade,\n",
        "           scatter_kws={\"marker\":\"x\",\"color\":\"blue\"},\n",
        "           line_kws={\"linewidth\":1, \"color\":\"orange\"})"
      ],
      "execution_count": 8,
      "outputs": [
        {
          "output_type": "execute_result",
          "data": {
            "text/plain": [
              "<seaborn.axisgrid.FacetGrid at 0x7f446ab136d8>"
            ]
          },
          "metadata": {
            "tags": []
          },
          "execution_count": 8
        },
        {
          "output_type": "display_data",
          "data": {
            "image/png": "[encoded data removed]",
            "text/plain": [
              "<Figure size 360x360 with 1 Axes>"
            ]
          },
          "metadata": {
            "tags": []
          }
        }
      ]
    },
    {
      "cell_type": "code",
      "metadata": {
        "id": "77uFaeOZILOb",
        "colab_type": "code",
        "outputId": "4f6a4851-9f34-4a01-95c3-51c38bbb47de",
        "colab": {
          "base_uri": "https://localhost:8080/",
          "height": 387
        }
      },
      "source": [
        "sns.lmplot(\"Vendas\", \"Propaganda\", publicidade,\n",
        "           scatter_kws={\"marker\":\"x\",\"color\":\"blue\"},\n",
        "           line_kws={\"linewidth\":1, \"color\":\"orange\"})"
      ],
      "execution_count": 0,
      "outputs": [
        {
          "output_type": "execute_result",
          "data": {
            "text/plain": [
              "<seaborn.axisgrid.FacetGrid at 0x7f1758884cf8>"
            ]
          },
          "metadata": {
            "tags": []
          },
          "execution_count": 9
        },
        {
          "output_type": "display_data",
          "data": {
            "image/png": "[encoded data removed]",
            "text/plain": [
              "<Figure size 360x360 with 1 Axes>"
            ]
          },
          "metadata": {
            "tags": []
          }
        }
      ]
    },
    {
      "cell_type": "code",
      "metadata": {
        "id": "YijsPfkMITWB",
        "colab_type": "code",
        "colab": {}
      },
      "source": [
        "# Busca valores null  quanto mais desconto, maiores são as vendas"
      ],
      "execution_count": 0,
      "outputs": []
    },
    {
      "cell_type": "code",
      "metadata": {
        "id": "-BvFTHfWIgak",
        "colab_type": "code",
        "outputId": "1b8bd873-ee64-47b3-ddfe-b8cb03e17974",
        "colab": {
          "base_uri": "https://localhost:8080/",
          "height": 102
        }
      },
      "source": [
        "publicidade.isnull().any()"
      ],
      "execution_count": 9,
      "outputs": [
        {
          "output_type": "execute_result",
          "data": {
            "text/plain": [
              "Periodo       False\n",
              "Propaganda    False\n",
              "Desconto      False\n",
              "Vendas        False\n",
              "dtype: bool"
            ]
          },
          "metadata": {
            "tags": []
          },
          "execution_count": 9
        }
      ]
    },
    {
      "cell_type": "code",
      "metadata": {
        "id": "VOhQr0IIIsrr",
        "colab_type": "code",
        "colab": {}
      },
      "source": [
        "# Busca Outlirs 0"
      ],
      "execution_count": 0,
      "outputs": []
    },
    {
      "cell_type": "code",
      "metadata": {
        "id": "pNPy5uBaJP4s",
        "colab_type": "code",
        "outputId": "3bdfccfa-9b55-4549-f540-a16070607ba4",
        "colab": {
          "base_uri": "https://localhost:8080/",
          "height": 109
        }
      },
      "source": [
        "(publicidade==0).any()"
      ],
      "execution_count": 0,
      "outputs": [
        {
          "output_type": "execute_result",
          "data": {
            "text/plain": [
              "Periodo       False\n",
              "Propaganda    False\n",
              "Desconto      False\n",
              "Vendas        False\n",
              "dtype: bool"
            ]
          },
          "metadata": {
            "tags": []
          },
          "execution_count": 11
        }
      ]
    },
    {
      "cell_type": "markdown",
      "metadata": {
        "id": "V7vrDHjaJd-i",
        "colab_type": "text"
      },
      "source": [
        "Modelo de TReinamneto e teste"
      ]
    },
    {
      "cell_type": "code",
      "metadata": {
        "id": "bOyugszgJi01",
        "colab_type": "code",
        "colab": {}
      },
      "source": [
        "from sklearn.model_selection import train_test_split"
      ],
      "execution_count": 0,
      "outputs": []
    },
    {
      "cell_type": "code",
      "metadata": {
        "id": "xibPPjoDJlBf",
        "colab_type": "code",
        "colab": {}
      },
      "source": [
        "variaveis=['Propaganda' ,\t'Desconto']\n",
        "alvo=['Vendas']\n",
        "\n",
        "x= publicidade[variaveis].values\n",
        "y = publicidade[alvo].values"
      ],
      "execution_count": 0,
      "outputs": []
    },
    {
      "cell_type": "code",
      "metadata": {
        "id": "Htv1XIr5J8Vq",
        "colab_type": "code",
        "colab": {}
      },
      "source": [
        "split_test_size=0.30\n",
        "x_train, x_test, y_train, y_test=train_test_split(x,y,test_size=split_test_size, random_state=42)"
      ],
      "execution_count": 0,
      "outputs": []
    },
    {
      "cell_type": "code",
      "metadata": {
        "id": "xcKkqddhKCtr",
        "colab_type": "code",
        "outputId": "00729fb8-0e24-4582-a206-2485d85b67ed",
        "colab": {
          "base_uri": "https://localhost:8080/",
          "height": 34
        }
      },
      "source": [
        "print(\"{0:0.2f}% na base de treinamento\".format((len(x_train)/len(publicidade.index))*100))"
      ],
      "execution_count": 13,
      "outputs": [
        {
          "output_type": "stream",
          "text": [
            "64.71% na base de treinamento\n"
          ],
          "name": "stdout"
        }
      ]
    },
    {
      "cell_type": "code",
      "metadata": {
        "id": "DoX1Y0CxWTG2",
        "colab_type": "code",
        "colab": {
          "base_uri": "https://localhost:8080/",
          "height": 34
        },
        "outputId": "e694f1ca-7f25-408c-f9d2-631bd2c88c1a"
      },
      "source": [
        "print(\"{0:0.2f}% na base de test\".format((len(x_test)/len(publicidade.index))*100))"
      ],
      "execution_count": 17,
      "outputs": [
        {
          "output_type": "stream",
          "text": [
            "35.29% na base de test\n"
          ],
          "name": "stdout"
        }
      ]
    },
    {
      "cell_type": "code",
      "metadata": {
        "id": "WEayKBenKNeb",
        "colab_type": "code",
        "outputId": "ed157952-f535-45fe-9a19-112e7f27d4ce",
        "colab": {
          "base_uri": "https://localhost:8080/",
          "height": 34
        }
      },
      "source": [
        "from sklearn import linear_model\n",
        "\n",
        "modelo_linear= linear_model.LinearRegression()\n",
        "\n",
        "modelo_linear.fit(x_train,y_train.ravel())"
      ],
      "execution_count": 14,
      "outputs": [
        {
          "output_type": "execute_result",
          "data": {
            "text/plain": [
              "LinearRegression(copy_X=True, fit_intercept=True, n_jobs=None, normalize=False)"
            ]
          },
          "metadata": {
            "tags": []
          },
          "execution_count": 14
        }
      ]
    },
    {
      "cell_type": "code",
      "metadata": {
        "id": "adswgbuIKc0e",
        "colab_type": "code",
        "outputId": "2912b172-4ce2-41ff-e719-5ea61d125392",
        "colab": {
          "base_uri": "https://localhost:8080/",
          "height": 34
        }
      },
      "source": [
        "from sklearn.metrics import mean_squared_error,r2_score\n",
        "\n",
        "y_pred= modelo_linear.predict(x_test)\n",
        "\n",
        "print('R^2 score: %.2f'% r2_score(y_test,y_pred))"
      ],
      "execution_count": 15,
      "outputs": [
        {
          "output_type": "stream",
          "text": [
            "R^2 score: 0.96\n"
          ],
          "name": "stdout"
        }
      ]
    },
    {
      "cell_type": "markdown",
      "metadata": {
        "id": "08Z2MZZsXb8M",
        "colab_type": "text"
      },
      "source": [
        "# Salvar o Modelo"
      ]
    },
    {
      "cell_type": "code",
      "metadata": {
        "id": "5CAgVBltXj4I",
        "colab_type": "code",
        "colab": {
          "base_uri": "https://localhost:8080/",
          "height": 88
        },
        "outputId": "aff02e5a-91e5-43c6-d1f9-24390d23c347"
      },
      "source": [
        "from sklearn.externals import joblib\n",
        "\n",
        "joblib.dump(modelo_linear,'publicidade.pkl')"
      ],
      "execution_count": 18,
      "outputs": [
        {
          "output_type": "stream",
          "text": [
            "/usr/local/lib/python3.6/dist-packages/sklearn/externals/joblib/__init__.py:15: FutureWarning: sklearn.externals.joblib is deprecated in 0.21 and will be removed in 0.23. Please import this functionality directly from joblib, which can be installed with: pip install joblib. If this warning is raised when loading pickled models, you may need to re-serialize those models with scikit-learn 0.21+.\n",
            "  warnings.warn(msg, category=FutureWarning)\n"
          ],
          "name": "stderr"
        },
        {
          "output_type": "execute_result",
          "data": {
            "text/plain": [
              "['publicidade.pkl']"
            ]
          },
          "metadata": {
            "tags": []
          },
          "execution_count": 18
        }
      ]
    },
    {
      "cell_type": "code",
      "metadata": {
        "id": "KsNHVt87XrrG",
        "colab_type": "code",
        "colab": {}
      },
      "source": [
        "publicidade_homolaga= joblib.load(\"publicidade.pkl\")"
      ],
      "execution_count": 0,
      "outputs": []
    }
  ]
}